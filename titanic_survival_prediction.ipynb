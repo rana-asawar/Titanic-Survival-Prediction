{
 "cells": [
  {
   "cell_type": "code",
<<<<<<< HEAD
   "execution_count": 12,
   "id": "7db3f303",
   "metadata": {},
=======
   "execution_count": null,
   "id": "7db3f303",
   "metadata": {
    "vscode": {
     "languageId": "plaintext"
    }
   },
>>>>>>> 2824d4ff5c5acf9b3ff3fcc3259741e860519741
   "outputs": [],
   "source": [
    "# Import libraries\n",
    "import pandas as pd\n",
    "import numpy as np\n",
    "import matplotlib.pyplot as plt\n",
    "import seaborn as sns\n",
    "\n",
    "from sklearn.model_selection import train_test_split\n",
    "from sklearn.preprocessing import LabelEncoder\n",
    "from sklearn.linear_model import LogisticRegression\n",
    "from sklearn.tree import DecisionTreeClassifier\n",
    "from sklearn.ensemble import RandomForestClassifier\n",
    "from sklearn.metrics import accuracy_score, confusion_matrix, classification_report\n"
   ]
<<<<<<< HEAD
  },
  {
   "cell_type": "code",
   "execution_count": 13,
   "id": "4201bd39",
   "metadata": {},
   "outputs": [
    {
     "data": {
      "text/html": [
       "<div>\n",
       "<style scoped>\n",
       "    .dataframe tbody tr th:only-of-type {\n",
       "        vertical-align: middle;\n",
       "    }\n",
       "\n",
       "    .dataframe tbody tr th {\n",
       "        vertical-align: top;\n",
       "    }\n",
       "\n",
       "    .dataframe thead th {\n",
       "        text-align: right;\n",
       "    }\n",
       "</style>\n",
       "<table border=\"1\" class=\"dataframe\">\n",
       "  <thead>\n",
       "    <tr style=\"text-align: right;\">\n",
       "      <th></th>\n",
       "      <th>PassengerId</th>\n",
       "      <th>Survived</th>\n",
       "      <th>Pclass</th>\n",
       "      <th>Name</th>\n",
       "      <th>Sex</th>\n",
       "      <th>Age</th>\n",
       "      <th>SibSp</th>\n",
       "      <th>Parch</th>\n",
       "      <th>Ticket</th>\n",
       "      <th>Fare</th>\n",
       "      <th>Cabin</th>\n",
       "      <th>Embarked</th>\n",
       "    </tr>\n",
       "  </thead>\n",
       "  <tbody>\n",
       "    <tr>\n",
       "      <th>0</th>\n",
       "      <td>1</td>\n",
       "      <td>0</td>\n",
       "      <td>3</td>\n",
       "      <td>Braund, Mr. Owen Harris</td>\n",
       "      <td>male</td>\n",
       "      <td>22.0</td>\n",
       "      <td>1</td>\n",
       "      <td>0</td>\n",
       "      <td>A/5 21171</td>\n",
       "      <td>7.2500</td>\n",
       "      <td>NaN</td>\n",
       "      <td>S</td>\n",
       "    </tr>\n",
       "    <tr>\n",
       "      <th>1</th>\n",
       "      <td>2</td>\n",
       "      <td>1</td>\n",
       "      <td>1</td>\n",
       "      <td>Cumings, Mrs. John Bradley (Florence Briggs Th...</td>\n",
       "      <td>female</td>\n",
       "      <td>38.0</td>\n",
       "      <td>1</td>\n",
       "      <td>0</td>\n",
       "      <td>PC 17599</td>\n",
       "      <td>71.2833</td>\n",
       "      <td>C85</td>\n",
       "      <td>C</td>\n",
       "    </tr>\n",
       "    <tr>\n",
       "      <th>2</th>\n",
       "      <td>3</td>\n",
       "      <td>1</td>\n",
       "      <td>3</td>\n",
       "      <td>Heikkinen, Miss. Laina</td>\n",
       "      <td>female</td>\n",
       "      <td>26.0</td>\n",
       "      <td>0</td>\n",
       "      <td>0</td>\n",
       "      <td>STON/O2. 3101282</td>\n",
       "      <td>7.9250</td>\n",
       "      <td>NaN</td>\n",
       "      <td>S</td>\n",
       "    </tr>\n",
       "    <tr>\n",
       "      <th>3</th>\n",
       "      <td>4</td>\n",
       "      <td>1</td>\n",
       "      <td>1</td>\n",
       "      <td>Futrelle, Mrs. Jacques Heath (Lily May Peel)</td>\n",
       "      <td>female</td>\n",
       "      <td>35.0</td>\n",
       "      <td>1</td>\n",
       "      <td>0</td>\n",
       "      <td>113803</td>\n",
       "      <td>53.1000</td>\n",
       "      <td>C123</td>\n",
       "      <td>S</td>\n",
       "    </tr>\n",
       "    <tr>\n",
       "      <th>4</th>\n",
       "      <td>5</td>\n",
       "      <td>0</td>\n",
       "      <td>3</td>\n",
       "      <td>Allen, Mr. William Henry</td>\n",
       "      <td>male</td>\n",
       "      <td>35.0</td>\n",
       "      <td>0</td>\n",
       "      <td>0</td>\n",
       "      <td>373450</td>\n",
       "      <td>8.0500</td>\n",
       "      <td>NaN</td>\n",
       "      <td>S</td>\n",
       "    </tr>\n",
       "  </tbody>\n",
       "</table>\n",
       "</div>"
      ],
      "text/plain": [
       "   PassengerId  Survived  Pclass  \\\n",
       "0            1         0       3   \n",
       "1            2         1       1   \n",
       "2            3         1       3   \n",
       "3            4         1       1   \n",
       "4            5         0       3   \n",
       "\n",
       "                                                Name     Sex   Age  SibSp  \\\n",
       "0                            Braund, Mr. Owen Harris    male  22.0      1   \n",
       "1  Cumings, Mrs. John Bradley (Florence Briggs Th...  female  38.0      1   \n",
       "2                             Heikkinen, Miss. Laina  female  26.0      0   \n",
       "3       Futrelle, Mrs. Jacques Heath (Lily May Peel)  female  35.0      1   \n",
       "4                           Allen, Mr. William Henry    male  35.0      0   \n",
       "\n",
       "   Parch            Ticket     Fare Cabin Embarked  \n",
       "0      0         A/5 21171   7.2500   NaN        S  \n",
       "1      0          PC 17599  71.2833   C85        C  \n",
       "2      0  STON/O2. 3101282   7.9250   NaN        S  \n",
       "3      0            113803  53.1000  C123        S  \n",
       "4      0            373450   8.0500   NaN        S  "
      ]
     },
     "execution_count": 13,
     "metadata": {},
     "output_type": "execute_result"
    }
   ],
   "source": [
    "# Load dataset\n",
    "df = pd.read_csv('train.csv')\n",
    "\n",
    "# Display first 5 rows\n",
    "df.head()\n"
   ]
  },
  {
   "cell_type": "code",
   "execution_count": 14,
   "id": "c853708c",
   "metadata": {},
   "outputs": [
    {
     "name": "stdout",
     "output_type": "stream",
     "text": [
      "<class 'pandas.core.frame.DataFrame'>\n",
      "RangeIndex: 891 entries, 0 to 890\n",
      "Data columns (total 12 columns):\n",
      " #   Column       Non-Null Count  Dtype  \n",
      "---  ------       --------------  -----  \n",
      " 0   PassengerId  891 non-null    int64  \n",
      " 1   Survived     891 non-null    int64  \n",
      " 2   Pclass       891 non-null    int64  \n",
      " 3   Name         891 non-null    object \n",
      " 4   Sex          891 non-null    object \n",
      " 5   Age          714 non-null    float64\n",
      " 6   SibSp        891 non-null    int64  \n",
      " 7   Parch        891 non-null    int64  \n",
      " 8   Ticket       891 non-null    object \n",
      " 9   Fare         891 non-null    float64\n",
      " 10  Cabin        204 non-null    object \n",
      " 11  Embarked     889 non-null    object \n",
      "dtypes: float64(2), int64(5), object(5)\n",
      "memory usage: 83.7+ KB\n"
     ]
    },
    {
     "data": {
      "text/plain": [
       "PassengerId      0\n",
       "Survived         0\n",
       "Pclass           0\n",
       "Name             0\n",
       "Sex              0\n",
       "Age            177\n",
       "SibSp            0\n",
       "Parch            0\n",
       "Ticket           0\n",
       "Fare             0\n",
       "Cabin          687\n",
       "Embarked         2\n",
       "dtype: int64"
      ]
     },
     "execution_count": 14,
     "metadata": {},
     "output_type": "execute_result"
    }
   ],
   "source": [
    "# Check basic info\n",
    "df.info()\n",
    "\n",
    "# Check for missing values\n",
    "df.isnull().sum()\n"
   ]
  },
  {
   "cell_type": "code",
   "execution_count": 15,
   "id": "01997455",
   "metadata": {},
   "outputs": [
    {
     "name": "stderr",
     "output_type": "stream",
     "text": [
      "C:\\Users\\Rana Asawar\\AppData\\Local\\Temp\\ipykernel_1964\\1398800076.py:2: FutureWarning: A value is trying to be set on a copy of a DataFrame or Series through chained assignment using an inplace method.\n",
      "The behavior will change in pandas 3.0. This inplace method will never work because the intermediate object on which we are setting values always behaves as a copy.\n",
      "\n",
      "For example, when doing 'df[col].method(value, inplace=True)', try using 'df.method({col: value}, inplace=True)' or df[col] = df[col].method(value) instead, to perform the operation inplace on the original object.\n",
      "\n",
      "\n",
      "  df['Age'].fillna(df['Age'].median(), inplace=True)\n",
      "C:\\Users\\Rana Asawar\\AppData\\Local\\Temp\\ipykernel_1964\\1398800076.py:5: FutureWarning: A value is trying to be set on a copy of a DataFrame or Series through chained assignment using an inplace method.\n",
      "The behavior will change in pandas 3.0. This inplace method will never work because the intermediate object on which we are setting values always behaves as a copy.\n",
      "\n",
      "For example, when doing 'df[col].method(value, inplace=True)', try using 'df.method({col: value}, inplace=True)' or df[col] = df[col].method(value) instead, to perform the operation inplace on the original object.\n",
      "\n",
      "\n",
      "  df['Embarked'].fillna(df['Embarked'].mode()[0], inplace=True)\n"
     ]
    }
   ],
   "source": [
    "# Fill missing Age with median\n",
    "df['Age'].fillna(df['Age'].median(), inplace=True)\n",
    "\n",
    "# Fill missing Embarked with the most common value\n",
    "df['Embarked'].fillna(df['Embarked'].mode()[0], inplace=True)\n",
    "\n",
    "# Drop Cabin column (too many missing values)\n",
    "df.drop('Cabin', axis=1, inplace=True)\n"
   ]
  },
  {
   "cell_type": "code",
   "execution_count": 16,
   "id": "a566421c",
   "metadata": {},
   "outputs": [],
   "source": [
    "# Encode Sex and Embarked columns\n",
    "label_encoder = LabelEncoder()\n",
    "\n",
    "df['Sex'] = label_encoder.fit_transform(df['Sex'])\n",
    "df['Embarked'] = label_encoder.fit_transform(df['Embarked'])\n"
   ]
  },
  {
   "cell_type": "code",
   "execution_count": 17,
   "id": "2010648b",
   "metadata": {},
   "outputs": [],
   "source": [
    "# Select features and target\n",
    "X = df[['Pclass', 'Sex', 'Age', 'SibSp', 'Parch', 'Fare', 'Embarked']]\n",
    "y = df['Survived']\n"
   ]
  },
  {
   "cell_type": "code",
   "execution_count": 18,
   "id": "c8749b77",
   "metadata": {},
   "outputs": [],
   "source": [
    "# Split into train and test\n",
    "X_train, X_test, y_train, y_test = train_test_split(X, y, test_size=0.2, random_state=42)\n"
   ]
  },
  {
   "cell_type": "code",
   "execution_count": 19,
   "id": "212a9594",
   "metadata": {},
   "outputs": [
    {
     "name": "stdout",
     "output_type": "stream",
     "text": [
      "Logistic Regression Accuracy: 0.8100558659217877\n",
      "              precision    recall  f1-score   support\n",
      "\n",
      "           0       0.83      0.86      0.84       105\n",
      "           1       0.79      0.74      0.76        74\n",
      "\n",
      "    accuracy                           0.81       179\n",
      "   macro avg       0.81      0.80      0.80       179\n",
      "weighted avg       0.81      0.81      0.81       179\n",
      "\n"
     ]
    }
   ],
   "source": [
    "# Train Logistic Regression\n",
    "logreg = LogisticRegression(max_iter=200)\n",
    "logreg.fit(X_train, y_train)\n",
    "\n",
    "# Predict\n",
    "y_pred_logreg = logreg.predict(X_test)\n",
    "\n",
    "# Evaluate\n",
    "print(\"Logistic Regression Accuracy:\", accuracy_score(y_test, y_pred_logreg))\n",
    "print(classification_report(y_test, y_pred_logreg))\n"
   ]
  },
  {
   "cell_type": "code",
   "execution_count": 20,
   "id": "3e19fdc5",
   "metadata": {},
   "outputs": [
    {
     "name": "stdout",
     "output_type": "stream",
     "text": [
      "Decision Tree Accuracy: 0.7653631284916201\n",
      "              precision    recall  f1-score   support\n",
      "\n",
      "           0       0.82      0.77      0.79       105\n",
      "           1       0.70      0.76      0.73        74\n",
      "\n",
      "    accuracy                           0.77       179\n",
      "   macro avg       0.76      0.76      0.76       179\n",
      "weighted avg       0.77      0.77      0.77       179\n",
      "\n"
     ]
    }
   ],
   "source": [
    "# Train Decision Tree\n",
    "dtree = DecisionTreeClassifier()\n",
    "dtree.fit(X_train, y_train)\n",
    "\n",
    "# Predict\n",
    "y_pred_dtree = dtree.predict(X_test)\n",
    "\n",
    "# Evaluate\n",
    "print(\"Decision Tree Accuracy:\", accuracy_score(y_test, y_pred_dtree))\n",
    "print(classification_report(y_test, y_pred_dtree))\n"
   ]
  },
  {
   "cell_type": "code",
   "execution_count": 21,
   "id": "a1fe8e1a",
   "metadata": {},
   "outputs": [
    {
     "name": "stdout",
     "output_type": "stream",
     "text": [
      "Random Forest Accuracy: 0.8212290502793296\n",
      "              precision    recall  f1-score   support\n",
      "\n",
      "           0       0.83      0.87      0.85       105\n",
      "           1       0.80      0.76      0.78        74\n",
      "\n",
      "    accuracy                           0.82       179\n",
      "   macro avg       0.82      0.81      0.81       179\n",
      "weighted avg       0.82      0.82      0.82       179\n",
      "\n"
     ]
    }
   ],
   "source": [
    "# Train Random Forest\n",
    "rf = RandomForestClassifier(n_estimators=100)\n",
    "rf.fit(X_train, y_train)\n",
    "\n",
    "# Predict\n",
    "y_pred_rf = rf.predict(X_test)\n",
    "\n",
    "# Evaluate\n",
    "print(\"Random Forest Accuracy:\", accuracy_score(y_test, y_pred_rf))\n",
    "print(classification_report(y_test, y_pred_rf))\n"
   ]
  },
  {
   "cell_type": "code",
   "execution_count": 22,
   "id": "b1143a7a",
   "metadata": {},
   "outputs": [
    {
     "data": {
      "image/png": "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",
      "text/plain": [
       "<Figure size 640x480 with 2 Axes>"
      ]
     },
     "metadata": {},
     "output_type": "display_data"
    }
   ],
   "source": [
    "# Confusion Matrix for Best Model (example: Random Forest)\n",
    "cm = confusion_matrix(y_test, y_pred_rf)\n",
    "\n",
    "sns.heatmap(cm, annot=True, fmt='d', cmap='Blues')\n",
    "plt.xlabel('Predicted')\n",
    "plt.ylabel('Actual')\n",
    "plt.title('Confusion Matrix - Random Forest')\n",
    "plt.show()\n"
   ]
  }
 ],
 "metadata": {
  "kernelspec": {
   "display_name": "base",
   "language": "python",
   "name": "python3"
  },
  "language_info": {
   "codemirror_mode": {
    "name": "ipython",
    "version": 3
   },
   "file_extension": ".py",
   "mimetype": "text/x-python",
   "name": "python",
   "nbconvert_exporter": "python",
   "pygments_lexer": "ipython3",
   "version": "3.12.7"
=======
  }
 ],
 "metadata": {
  "language_info": {
   "name": "python"
>>>>>>> 2824d4ff5c5acf9b3ff3fcc3259741e860519741
  }
 },
 "nbformat": 4,
 "nbformat_minor": 5
}
